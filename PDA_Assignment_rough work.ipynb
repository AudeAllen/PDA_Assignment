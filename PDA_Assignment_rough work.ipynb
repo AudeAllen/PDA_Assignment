{
 "cells": [
  {
   "cell_type": "code",
   "execution_count": null,
   "metadata": {},
   "outputs": [],
   "source": [
    "# Programming for Data Analysis Assignment\n",
    "\n",
    "# Author: Audrey Allen"
   ]
  },
  {
   "cell_type": "markdown",
   "metadata": {},
   "source": []
  },
  {
   "cell_type": "code",
   "execution_count": null,
   "metadata": {},
   "outputs": [],
   "source": [
    "import pandas as pd\n",
    "\n",
    "# Create a sample dataframe - test for Github - Another Test for Github\n",
    "Biodata = {'Triage': ['1', '2', '3', '4','5'],\n",
    "        'Age': [28, 23, 35, 31,50],\n",
    "        'Gender': ['M', 'F', 'M', 'F', 'F']\n",
    "        }\n",
    "df = pd.DataFrame(Biodata)\n",
    "\n",
    "# Save the dataframe to a CSV file\n",
    "df.to_csv('Biodata.csv', index=False)"
   ]
  },
  {
   "cell_type": "code",
   "execution_count": null,
   "metadata": {},
   "outputs": [],
   "source": [
    "import pandas as pd\n",
    "from sklearn import datasets\n",
    "\n",
    "features, output, coef = datasets.make_regression(n_samples = 200, n_features = 4,\n",
    "                                n_informative = 4, n_targets = 1,\n",
    "                                noise = 0.0, coef = True)"
   ]
  },
  {
   "cell_type": "code",
   "execution_count": null,
   "metadata": {},
   "outputs": [],
   "source": [
    "print(pd.DataFrame(features, columns=['Feature_1', 'Feature_2', 'Feature_3', 'Feature_4']).head())\n",
    "print(pd.DataFrame(output, columns=['Target']).head())\n",
    "print(pd.DataFrame(coef, columns=['True Coefficient Values']))"
   ]
  },
  {
   "cell_type": "code",
   "execution_count": null,
   "metadata": {},
   "outputs": [],
   "source": [
    "\n",
    "from sklearn.datasets import make_classification \n",
    "import pandas as pd \n",
    "import matplotlib.pyplot as plt \n",
    "  \n",
    "X, y = make_classification(n_samples=100, n_features=5, \n",
    "                           n_classes=2, \n",
    "                           n_informative=2, n_redundant=2, \n",
    "                           n_repeated=0, \n",
    "                           shuffle=True, random_state=42) \n",
    "pd.concat([pd.DataFrame(X), pd.DataFrame( \n",
    "    y, columns=['Label'])], axis=1) "
   ]
  },
  {
   "cell_type": "code",
   "execution_count": null,
   "metadata": {},
   "outputs": [],
   "source": [
    "import numpy as np\n",
    "np.random.random(100)"
   ]
  },
  {
   "cell_type": "code",
   "execution_count": 3,
   "metadata": {},
   "outputs": [
    {
     "data": {
      "text/plain": [
       "7"
      ]
     },
     "execution_count": 3,
     "metadata": {},
     "output_type": "execute_result"
    }
   ],
   "source": [
    "import numpy as np\n",
    "arr_random = np.random.randint(low=2, high=10)\n",
    "arr_random"
   ]
  }
 ],
 "metadata": {
  "kernelspec": {
   "display_name": "Python 3 (ipykernel)",
   "language": "python",
   "name": "python3"
  },
  "language_info": {
   "codemirror_mode": {
    "name": "ipython",
    "version": 3
   },
   "file_extension": ".py",
   "mimetype": "text/x-python",
   "name": "python",
   "nbconvert_exporter": "python",
   "pygments_lexer": "ipython3",
   "version": "3.11.4"
  }
 },
 "nbformat": 4,
 "nbformat_minor": 2
}

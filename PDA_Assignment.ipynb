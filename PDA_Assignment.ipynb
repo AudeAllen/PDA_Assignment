{
 "cells": [
  {
   "cell_type": "markdown",
   "metadata": {},
   "source": [
    "#  Programming for Data Analysis Project\n",
    "\n",
    "\n",
    "### Problem Statement \n",
    "\n",
    "For this project you must create a data set by simulating a real-world phenomenon of\n",
    "your choosing. You may pick any phenomenon you wish – you might pick one that is\n",
    "of interest to you in your personal or professional life. Then, rather than collect data\n",
    "related to the phenomenon, you should model and synthesise such data using Python.\n",
    "We suggest you use the numpy.random package for this purpose.<br><br>\n",
    "Specifically, in this project you should:<br><br>\n",
    "    • Choose a real-world phenomenon that can be measured and for which you could\n",
    "    collect at least one-hundred data points across at least four different variables.<br>\n",
    "    • Investigate the types of variables involved, their likely distributions, and their\n",
    "    relationships with each other.<br>\n",
    "    • Synthesise/simulate a data set as closely matching their properties as possible.<br>\n",
    "    • Detail your research and implement the simulation in a Jupyter notebook – the\n",
    "    data set itself can simply be displayed in an output cell within the notebook.<br>\n",
    "\n",
    "### Attendances at an Emergency Department over a period of 24 hours\n",
    "\n",
    "The real world phenomenon that I have chosen for this project is 24 hours in an Emergency Department. I am going to base this off a real live Emergency Deparment dataset.I work in the Halth Sservice Executive and I have access and am familiar with this data.\n",
    "\n",
    "\n",
    "The variables that I am going to use are listed below. There are 6 variables in total. - <br><br>\n",
    "\n",
    "• Date of Attendance - Date the patient registers with the Emergency Department\n",
    "• Age of Patient - The Age of the patient when they attend the Emergency Department - Non-Zero integer\n",
    "• Hours in ED - The number of hours the patient was in the department - Non-Negative Real number with 2 decimal places\n",
    "• Triage Category - Triage category will be values 1 - 5. 1 being the most serious patient -  Non-Zero integer\n",
    "• Sex - Categorical Variable - 2 possible values - Male and Female\n",
    "• Discharge Distination - This variable is where the patient was discharged to - Categorical Variable - Did Not Wait, Discharged Home, Admitted to Ward, Death (in ED) <br><br>\n",
    "    \n",
    "I am going to go through each variable and describe the type of variable, the distribution of the variable and the relationship that variable has with other variables in the dataset. <br><br>\n"
   ]
  },
  {
   "cell_type": "markdown",
   "metadata": {},
   "source": [
    "### Types of Variables and Scales of Measurement\n",
    "\n",
    "Before I go into detail about the varible types in my project I need to explain the data types that can be assigned and why you would assign a particular data type to a variable.\n",
    "\n",
    "There are two types of data \n",
    "\n",
    "1. Qualitative - Refers to information about qualities, or information that cannot be measured.<br>\n",
    "2. Quantitative - is numerical. It’s used to define information that can be counted.<br><br>\n",
    "    \n",
    "Straight away we can put our variables into two very simple groups. The two groups above can be further broken down however and when modelling and understanding our data we need to understand the data types within the dataset.<br><br>\n",
    "\n",
    "\n",
    "Quantitative, or numerical, data can be broken down into two types: discrete and continuous.<br><br>\n",
    "\n",
    "1. Discrete - Discrete data is a whole number that can’t be divided or broken into individual parts, fractions or decimals.<br>\n",
    "2. Continuous - Continuous data describes values that can be broken down into different parts, units, fractions and decimals\n",
    "\n",
    "### Qualitative or Categorical Data \n",
    "\n",
    "This type of data is non-numerical. It can be used to describe the information in a dataset. \n",
    "\n",
    "\n",
    "\n",
    "\n",
    "\n"
   ]
  },
  {
   "cell_type": "markdown",
   "metadata": {},
   "source": [
    "### Date of Attendance - Date the patient registers with the Emergency Department\n",
    "\n",
    "\n"
   ]
  },
  {
   "cell_type": "markdown",
   "metadata": {},
   "source": [
    "### Age of Patient \n",
    "\n",
    "The age of the patient is a variable that tells us what age the patient was at the time of the attendance to the Emergency Department. Age is an non-zero integer data type. This means that noone will ever have an age of 0. For this purpose the age will be given in years only so no decimal places.\n",
    "\n",
    "\n"
   ]
  },
  {
   "cell_type": "markdown",
   "metadata": {},
   "source": [
    "### References\n",
    "\n",
    "https://studyonline.unsw.edu.au/blog/types-of-data#:~:text=Psychologist%20Stanley%20Stevens%20developed%20the,to%20properly%20analyse%20the%20data"
   ]
  }
 ],
 "metadata": {
  "kernelspec": {
   "display_name": "Python 3 (ipykernel)",
   "language": "python",
   "name": "python3"
  },
  "language_info": {
   "codemirror_mode": {
    "name": "ipython",
    "version": 3
   },
   "file_extension": ".py",
   "mimetype": "text/x-python",
   "name": "python",
   "nbconvert_exporter": "python",
   "pygments_lexer": "ipython3",
   "version": "3.11.4"
  }
 },
 "nbformat": 4,
 "nbformat_minor": 2
}
